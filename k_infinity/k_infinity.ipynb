{
 "cells": [
  {
   "cell_type": "markdown",
   "metadata": {},
   "source": [
    "# k-infinity calculation - homogeneous problem\n",
    "\n",
    "The reason we need to use production scattering cross section in neutron balance equation."
   ]
  },
  {
   "cell_type": "markdown",
   "metadata": {},
   "source": [
    "## Setup python"
   ]
  },
  {
   "cell_type": "code",
   "execution_count": 1,
   "metadata": {
    "collapsed": true
   },
   "outputs": [],
   "source": [
    "from IPython.display import Image\n",
    "import numpy as np\n",
    "import matplotlib.pyplot as plt\n",
    "from matplotlib import rc\n",
    "\n",
    "import openmc\n",
    "from openmc.statepoint import StatePoint\n",
    "\n",
    "%matplotlib inline"
   ]
  },
  {
   "cell_type": "markdown",
   "metadata": {},
   "source": [
    "## Load some nuclides"
   ]
  },
  {
   "cell_type": "code",
   "execution_count": 2,
   "metadata": {
    "collapsed": true
   },
   "outputs": [],
   "source": [
    "h1 = openmc.Nuclide('H-1')\n",
    "o16 = openmc.Nuclide('O-16')\n",
    "u235 = openmc.Nuclide('U-235')\n",
    "u238 = openmc.Nuclide('U-238')"
   ]
  },
  {
   "cell_type": "markdown",
   "metadata": {},
   "source": [
    "## Create fuel and moderator materials"
   ]
  },
  {
   "cell_type": "code",
   "execution_count": 3,
   "metadata": {
    "collapsed": false
   },
   "outputs": [],
   "source": [
    "fuel = openmc.Material(name='Fuel')\n",
    "fuel.set_density('g/cm3', 10.31341)\n",
    "fuel.add_nuclide(u235, 3.7503e-4)\n",
    "fuel.add_nuclide(u238, 2.2625e-2)\n",
    "fuel.add_nuclide(o16, 4.6007e-2)\n",
    "fuel.add_nuclide(h1, 9.2000e-2)"
   ]
  },
  {
   "cell_type": "markdown",
   "metadata": {},
   "source": [
    "## Create materials object and export"
   ]
  },
  {
   "cell_type": "code",
   "execution_count": 4,
   "metadata": {
    "collapsed": false
   },
   "outputs": [],
   "source": [
    "materials_file = openmc.MaterialsFile()\n",
    "materials_file.add_material(fuel)\n",
    "materials_file.default_xs = '71c'\n",
    "\n",
    "materials_file.export_to_xml()"
   ]
  },
  {
   "cell_type": "markdown",
   "metadata": {},
   "source": [
    "## Create surfaces"
   ]
  },
  {
   "cell_type": "code",
   "execution_count": 5,
   "metadata": {
    "collapsed": false
   },
   "outputs": [],
   "source": [
    "min_x = openmc.XPlane(x0=-1.0, boundary_type='reflective')\n",
    "max_x = openmc.XPlane(x0=+1.0, boundary_type='reflective')\n",
    "min_y = openmc.YPlane(y0=-1.0, boundary_type='reflective')\n",
    "max_y = openmc.YPlane(y0=+1.0, boundary_type='reflective')\n",
    "min_z = openmc.ZPlane(z0=-1.0, boundary_type='reflective')\n",
    "max_z = openmc.ZPlane(z0=+1.0, boundary_type='reflective')"
   ]
  },
  {
   "cell_type": "markdown",
   "metadata": {},
   "source": [
    "## Create root cell and geometry"
   ]
  },
  {
   "cell_type": "code",
   "execution_count": 6,
   "metadata": {
    "collapsed": true
   },
   "outputs": [],
   "source": [
    "root_cell = openmc.Cell(name='root cell')\n",
    "root_cell.fill = fuel\n",
    "\n",
    "# Add boundary planes\n",
    "root_cell.region = +min_x & -max_x & +min_y & -max_y & +min_z & -max_z\n",
    "\n",
    "# Create root Universe\n",
    "root_universe = openmc.Universe(universe_id=0, name='root universe')\n",
    "root_universe.add_cell(root_cell)\n",
    "\n",
    "# Create Geometry and set root Universe\n",
    "geometry = openmc.Geometry()\n",
    "geometry.root_universe = root_universe"
   ]
  },
  {
   "cell_type": "markdown",
   "metadata": {},
   "source": [
    "## Create geometry file and export"
   ]
  },
  {
   "cell_type": "code",
   "execution_count": 7,
   "metadata": {
    "collapsed": true
   },
   "outputs": [],
   "source": [
    "geometry_file = openmc.GeometryFile()\n",
    "geometry_file.geometry = geometry\n",
    "\n",
    "geometry_file.export_to_xml()"
   ]
  },
  {
   "cell_type": "markdown",
   "metadata": {},
   "source": [
    "## Set OpenMC settings and export file"
   ]
  },
  {
   "cell_type": "code",
   "execution_count": 8,
   "metadata": {
    "collapsed": false
   },
   "outputs": [],
   "source": [
    "# OpenMC simulation parameters\n",
    "batches = 100\n",
    "inactive = 10\n",
    "particles = 50000\n",
    "\n",
    "# Instantiate a SettingsFile\n",
    "settings_file = openmc.SettingsFile()\n",
    "settings_file.batches = batches\n",
    "settings_file.inactive = inactive\n",
    "settings_file.particles = particles\n",
    "source_bounds = [min_x.x0, min_y.y0, min_z.z0, max_x.x0, max_y.y0, max_z.z0]\n",
    "settings_file.set_source_space('box', source_bounds)\n",
    "\n",
    "# Export to \"settings.xml\"\n",
    "settings_file.export_to_xml()"
   ]
  },
  {
   "cell_type": "markdown",
   "metadata": {},
   "source": [
    "## Plot geometry"
   ]
  },
  {
   "cell_type": "code",
   "execution_count": 9,
   "metadata": {
    "collapsed": false
   },
   "outputs": [],
   "source": [
    "# Instantiate a Plot\n",
    "plot = openmc.Plot(plot_id=1)\n",
    "plot.filename = 'slab_geometry'\n",
    "plot.origin = [0, 0, 0]\n",
    "plot.width = [2.0, 2.0]\n",
    "plot.pixels = [200, 200]\n",
    "plot.color = 'mat'\n",
    "plot.col_spec={fuel.id:(0, 255, 0)}\n",
    "\n",
    "# Instantiate a PlotsFile, add Plot, and export to \"plots.xml\"\n",
    "plot_file = openmc.PlotsFile()\n",
    "plot_file.add_plot(plot)\n",
    "plot_file.export_to_xml()"
   ]
  },
  {
   "cell_type": "markdown",
   "metadata": {},
   "source": [
    "## Run OpenMC to create plot"
   ]
  },
  {
   "cell_type": "code",
   "execution_count": 10,
   "metadata": {
    "collapsed": false
   },
   "outputs": [
    {
     "data": {
      "text/plain": [
       "0"
      ]
     },
     "execution_count": 10,
     "metadata": {},
     "output_type": "execute_result"
    }
   ],
   "source": [
    "executor = openmc.Executor()\n",
    "executor.plot_geometry(output=False)"
   ]
  },
  {
   "cell_type": "code",
   "execution_count": 11,
   "metadata": {
    "collapsed": false
   },
   "outputs": [
    {
     "data": {
      "image/png": "[encoded data removed]",
      "text/plain": [
       "<IPython.core.display.Image object>"
      ]
     },
     "execution_count": 11,
     "metadata": {},
     "output_type": "execute_result"
    }
   ],
   "source": [
    "# Convert OpenMC's ppm to png\n",
    "!convert slab_geometry.ppm slab_geometry.png\n",
    "\n",
    "# Display the materials plot inline\n",
    "Image(filename='slab_geometry.png')"
   ]
  },
  {
   "cell_type": "markdown",
   "metadata": {},
   "source": [
    "## Create tallies"
   ]
  },
  {
   "cell_type": "code",
   "execution_count": 12,
   "metadata": {
    "collapsed": false
   },
   "outputs": [],
   "source": [
    "# Instantiate an empty TalliesFile\n",
    "tallies_file = openmc.TalliesFile()\n",
    "\n",
    "# Create mesh tally to score flux and fission rate (defaults to analog estimator because of nu-scatter)\n",
    "tally = openmc.Tally(name='Reaction Rates')\n",
    "tally.add_score('flux')\n",
    "tally.add_score('total')\n",
    "tally.add_score('absorption')\n",
    "tally.add_score('scatter')\n",
    "tally.add_score('nu-fission')\n",
    "tally.add_score('nu-scatter')\n",
    "tallies_file.add_tally(tally)\n",
    "\n",
    "# Export to \"tallies.xml\"\n",
    "tallies_file.export_to_xml()"
   ]
  },
  {
   "cell_type": "markdown",
   "metadata": {},
   "source": [
    "## Run OpenMC Simulation"
   ]
  },
  {
   "cell_type": "code",
   "execution_count": 13,
   "metadata": {
    "collapsed": false
   },
   "outputs": [
    {
     "name": "stdout",
     "output_type": "stream",
     "text": [
      "\n",
      "       .d88888b.                             888b     d888  .d8888b.\n",
      "      d88P\" \"Y88b                            8888b   d8888 d88P  Y88b\n",
      "      888     888                            88888b.d88888 888    888\n",
      "      888     888 88888b.   .d88b.  88888b.  888Y88888P888 888       \n",
      "      888     888 888 \"88b d8P  Y8b 888 \"88b 888 Y888P 888 888       \n",
      "      888     888 888  888 88888888 888  888 888  Y8P  888 888    888\n",
      "      Y88b. .d88P 888 d88P Y8b.     888  888 888   \"   888 Y88b  d88P\n",
      "       \"Y88888P\"  88888P\"   \"Y8888  888  888 888       888  \"Y8888P\"\n",
      "__________________888______________________________________________________\n",
      "                  888\n",
      "                  888\n",
      "\n",
      "      Copyright:      2011-2015 Massachusetts Institute of Technology\n",
      "      License:        http://mit-crpg.github.io/openmc/license.html\n",
      "      Version:        0.7.0\n",
      "      Git SHA1:       8f2b7b02fc7b7225f32ffd022c5fc9280e1380a5\n",
      "      Date/Time:      2015-12-05 11:52:28\n",
      "      MPI Processes:  1\n",
      "      OpenMP Threads: 8\n",
      "\n",
      " ===========================================================================\n",
      " ========================>     INITIALIZATION     <=========================\n",
      " ===========================================================================\n",
      "\n",
      " Reading settings XML file...\n",
      " Reading cross sections XML file...\n",
      " Reading geometry XML file...\n",
      " Reading materials XML file...\n",
      " Reading tallies XML file...\n",
      " Building neighboring cells lists for each surface...\n",
      " Loading ACE cross section table: 92235.71c\n",
      " Loading ACE cross section table: 92238.71c\n",
      " Loading ACE cross section table: 8016.71c\n",
      " Loading ACE cross section table: 1001.71c\n",
      " Maximum neutron transport energy: 20.0000 MeV for 92235.71c\n",
      " Initializing source particles...\n",
      "\n",
      " ===========================================================================\n",
      " ====================>     K EIGENVALUE SIMULATION     <====================\n",
      " ===========================================================================\n",
      "\n",
      "  Bat./Gen.      k            Average k         \n",
      "  =========   ========   ====================   \n",
      "        1/1    1.16517                       \n",
      "        2/1    1.16289                       \n",
      "        3/1    1.15619                       \n",
      "        4/1    1.16185                       \n",
      "        5/1    1.16321                       \n",
      "        6/1    1.16209                       \n",
      "        7/1    1.15695                       \n",
      "        8/1    1.15723                       \n",
      "        9/1    1.16157                       \n",
      "       10/1    1.15884                       \n",
      "       11/1    1.15205                       \n",
      "       12/1    1.15481    1.15343 +/- 0.00138\n",
      "       13/1    1.16246    1.15644 +/- 0.00311\n",
      "       14/1    1.15861    1.15698 +/- 0.00227\n",
      "       15/1    1.17112    1.15981 +/- 0.00333\n",
      "       16/1    1.17076    1.16164 +/- 0.00327\n",
      "       17/1    1.16395    1.16197 +/- 0.00279\n",
      "       18/1    1.15987    1.16170 +/- 0.00243\n",
      "       19/1    1.15802    1.16130 +/- 0.00218\n",
      "       20/1    1.16396    1.16156 +/- 0.00197\n",
      "       21/1    1.15322    1.16080 +/- 0.00193\n",
      "       22/1    1.16271    1.16096 +/- 0.00177\n",
      "       23/1    1.15886    1.16080 +/- 0.00164\n",
      "       24/1    1.16510    1.16111 +/- 0.00155\n",
      "       25/1    1.16614    1.16144 +/- 0.00148\n",
      "       26/1    1.16283    1.16153 +/- 0.00139\n",
      "       27/1    1.17244    1.16217 +/- 0.00145\n",
      "       28/1    1.16826    1.16251 +/- 0.00141\n",
      "       29/1    1.15824    1.16229 +/- 0.00135\n",
      "       30/1    1.15310    1.16183 +/- 0.00136\n",
      "       31/1    1.16423    1.16194 +/- 0.00130\n",
      "       32/1    1.16223    1.16195 +/- 0.00124\n",
      "       33/1    1.15351    1.16159 +/- 0.00124\n",
      "       34/1    1.15689    1.16139 +/- 0.00120\n",
      "       35/1    1.16191    1.16141 +/- 0.00116\n",
      "       36/1    1.16686    1.16162 +/- 0.00113\n",
      "       37/1    1.16498    1.16175 +/- 0.00109\n",
      "       38/1    1.16409    1.16183 +/- 0.00106\n",
      "       39/1    1.16019    1.16177 +/- 0.00102\n",
      "       40/1    1.17174    1.16211 +/- 0.00104\n",
      "       41/1    1.16638    1.16224 +/- 0.00102\n",
      "       42/1    1.16330    1.16228 +/- 0.00099\n",
      "       43/1    1.14575    1.16178 +/- 0.00108\n",
      "       44/1    1.15600    1.16161 +/- 0.00106\n",
      "       45/1    1.16163    1.16161 +/- 0.00103\n",
      "       46/1    1.16810    1.16179 +/- 0.00102\n",
      "       47/1    1.15036    1.16148 +/- 0.00104\n",
      "       48/1    1.16592    1.16160 +/- 0.00101\n",
      "       49/1    1.16588    1.16170 +/- 0.00099\n",
      "       50/1    1.15955    1.16165 +/- 0.00097\n",
      "       51/1    1.16545    1.16174 +/- 0.00095\n",
      "       52/1    1.15982    1.16170 +/- 0.00093\n",
      "       53/1    1.16418    1.16176 +/- 0.00091\n",
      "       54/1    1.15994    1.16171 +/- 0.00089\n",
      "       55/1    1.16312    1.16175 +/- 0.00087\n",
      "       56/1    1.15358    1.16157 +/- 0.00087\n",
      "       57/1    1.16470    1.16163 +/- 0.00085\n",
      "       58/1    1.16036    1.16161 +/- 0.00084\n",
      "       59/1    1.17057    1.16179 +/- 0.00084\n",
      "       60/1    1.16106    1.16178 +/- 0.00082\n",
      "       61/1    1.16090    1.16176 +/- 0.00081\n",
      "       62/1    1.15996    1.16172 +/- 0.00079\n",
      "       63/1    1.15420    1.16158 +/- 0.00079\n",
      "       64/1    1.16051    1.16156 +/- 0.00077\n",
      "       65/1    1.16422    1.16161 +/- 0.00076\n",
      "       66/1    1.15878    1.16156 +/- 0.00075\n",
      "       67/1    1.15757    1.16149 +/- 0.00074\n",
      "       68/1    1.15668    1.16141 +/- 0.00073\n",
      "       69/1    1.16583    1.16148 +/- 0.00072\n",
      "       70/1    1.16136    1.16148 +/- 0.00071\n",
      "       71/1    1.15558    1.16138 +/- 0.00071\n",
      "       72/1    1.15604    1.16130 +/- 0.00070\n",
      "       73/1    1.15007    1.16112 +/- 0.00071\n",
      "       74/1    1.16406    1.16117 +/- 0.00070\n",
      "       75/1    1.16455    1.16122 +/- 0.00069\n",
      "       76/1    1.16798    1.16132 +/- 0.00069\n",
      "       77/1    1.15304    1.16120 +/- 0.00069\n",
      "       78/1    1.15997    1.16118 +/- 0.00068\n",
      "       79/1    1.16823    1.16128 +/- 0.00068\n",
      "       80/1    1.17068    1.16141 +/- 0.00068\n",
      "       81/1    1.17288    1.16158 +/- 0.00069\n",
      "       82/1    1.16944    1.16169 +/- 0.00069\n",
      "       83/1    1.15522    1.16160 +/- 0.00069\n",
      "       84/1    1.15432    1.16150 +/- 0.00068\n",
      "       85/1    1.15761    1.16145 +/- 0.00068\n",
      "       86/1    1.15456    1.16136 +/- 0.00067\n",
      "       87/1    1.15327    1.16125 +/- 0.00067\n",
      "       88/1    1.16400    1.16129 +/- 0.00067\n",
      "       89/1    1.16137    1.16129 +/- 0.00066\n",
      "       90/1    1.15834    1.16125 +/- 0.00065\n",
      "       91/1    1.15904    1.16122 +/- 0.00064\n",
      "       92/1    1.15109    1.16110 +/- 0.00065\n",
      "       93/1    1.15997    1.16109 +/- 0.00064\n",
      "       94/1    1.16567    1.16114 +/- 0.00063\n",
      "       95/1    1.17325    1.16128 +/- 0.00064\n",
      "       96/1    1.16854    1.16137 +/- 0.00064\n",
      "       97/1    1.16529    1.16141 +/- 0.00063\n",
      "       98/1    1.16205    1.16142 +/- 0.00063\n",
      "       99/1    1.16089    1.16141 +/- 0.00062\n",
      "      100/1    1.16789    1.16149 +/- 0.00062\n",
      " Creating state point statepoint.100.h5...\n",
      "\n",
      " ===========================================================================\n",
      " ======================>     SIMULATION FINISHED     <======================\n",
      " ===========================================================================\n",
      "\n",
      "\n",
      " =======================>     TIMING STATISTICS     <=======================\n",
      "\n",
      " Total time for initialization     =  2.0300E-01 seconds\n",
      "   Reading cross sections          =  5.2000E-02 seconds\n",
      " Total time in simulation          =  2.7988E+01 seconds\n",
      "   Time in transport only          =  2.7756E+01 seconds\n",
      "   Time in inactive batches        =  2.5600E+00 seconds\n",
      "   Time in active batches          =  2.5428E+01 seconds\n",
      "   Time synchronizing fission bank =  1.0900E-01 seconds\n",
      "     Sampling source sites         =  6.5000E-02 seconds\n",
      "     SEND/RECV source sites        =  4.4000E-02 seconds\n",
      "   Time accumulating tallies       =  2.0000E-03 seconds\n",
      " Total time for finalization       =  1.0000E-03 seconds\n",
      " Total time elapsed                =  2.8299E+01 seconds\n",
      " Calculation Rate (inactive)       =  1.95313E+05 neutrons/second\n",
      " Calculation Rate (active)         =  1.76970E+05 neutrons/second\n",
      "\n",
      " ============================>     RESULTS     <============================\n",
      "\n",
      " k-effective (Collision)     =  1.16159 +/-  0.00061\n",
      " k-effective (Track-length)  =  1.16149 +/-  0.00062\n",
      " k-effective (Absorption)    =  1.16003 +/-  0.00047\n",
      " Combined k-effective        =  1.16053 +/-  0.00043\n",
      " Leakage Fraction            =  0.00000 +/-  0.00000\n",
      "\n"
     ]
    },
    {
     "data": {
      "text/plain": [
       "0"
      ]
     },
     "execution_count": 13,
     "metadata": {},
     "output_type": "execute_result"
    }
   ],
   "source": [
    "executor.run_simulation()"
   ]
  },
  {
   "cell_type": "markdown",
   "metadata": {
    "collapsed": true
   },
   "source": [
    "## Extract tallies"
   ]
  },
  {
   "cell_type": "code",
   "execution_count": 14,
   "metadata": {
    "collapsed": false
   },
   "outputs": [],
   "source": [
    "# Load the statepoint file\n",
    "sp = StatePoint('statepoint.100.h5')\n",
    "\n",
    "# Extract eigenvalue\n",
    "k_openmc = sp.k_combined\n",
    "\n",
    "# Get tally from file\n",
    "tally = sp.get_tally(scores=['flux'])\n",
    "tally= sp.get_tally(scores=['nu-scatter'])\n",
    "\n",
    "# Extract tallies\n",
    "nu_fission_rate = tally.get_slice(scores=['nu-fission'])\n",
    "absorption_rate = tally.get_slice(scores=['absorption'])\n",
    "\n",
    "sp.close()"
   ]
  },
  {
   "cell_type": "markdown",
   "metadata": {},
   "source": [
    "## Calculate k-infinity as described in textbooks\n",
    "\n",
    "Balance equation for infinite homogeneous system is:\n",
    "\n",
    "$\\Sigma_t\\phi = \\Sigma_s\\phi + \\frac{1}{k}\\nu\\Sigma_f\\phi$\n",
    "\n",
    "This solving for k:\n",
    "\n",
    "$k = \\frac{\\nu\\Sigma_f\\phi}{\\Sigma_t\\phi - \\Sigma_s\\phi} = \\frac{\\nu\\Sigma_f\\phi}{\\Sigma_a\\phi}$\n",
    "\n",
    "The tallies coming from OpenMC for nu-fission and absorption are rates which means they also include volume of geometry. This will cancel from numerator and denominator and will have the formula above."
   ]
  },
  {
   "cell_type": "code",
   "execution_count": 15,
   "metadata": {
    "collapsed": false
   },
   "outputs": [
    {
     "name": "stdout",
     "output_type": "stream",
     "text": [
      "k-inf is 1.1579656894\n"
     ]
    }
   ],
   "source": [
    "kinf = nu_fission_rate / absorption_rate\n",
    "\n",
    "print \"k-inf is {}\".format(kinf.mean[0,0,0])"
   ]
  },
  {
   "cell_type": "markdown",
   "metadata": {},
   "source": [
    "## Difference from k-effective calculated from code"
   ]
  },
  {
   "cell_type": "code",
   "execution_count": 16,
   "metadata": {
    "collapsed": false
   },
   "outputs": [
    {
     "name": "stdout",
     "output_type": "stream",
     "text": [
      "Approximate Difference in pcm: 255.99422607\n"
     ]
    }
   ],
   "source": [
    "print \"Approximate Difference in pcm: {}\".format(np.abs(kinf.mean[0,0,0] - k_openmc[0])*10**5)"
   ]
  },
  {
   "cell_type": "markdown",
   "metadata": {},
   "source": [
    "What is causing this significant difference? Are we missing physics in the balance equation that OpenMC is capturing? Hint: There are other sources of neutrons other than fission."
   ]
  },
  {
   "cell_type": "markdown",
   "metadata": {},
   "source": [
    "## The correct neutron balance equation\n",
    "\n",
    "We need to capture neutron production from (n, 2n), (n, 3n) ... (n, xn). OpenMC treats this physics with the scattering, but the \"scatter\" tally score in OpenMC does not record the fact that extra neutrons were produced. Therefore, we created an additional tally score in OpenMC termed \"nu-scatter\". Its derivation is below.\n",
    "\n",
    "Start with the correct balance equation accounting for neutron production in (n , xn):\n",
    "\n",
    "$\\Sigma_t\\phi = \\Sigma_s\\phi + \\sum\\limits_ii\\Sigma_{(n, in)}\\phi + \\frac{1}{k}\\nu\\Sigma_f\\phi$\n",
    "\n",
    "Include (n, xn) production term in scattering matrix:\n",
    "\n",
    "$\\Sigma_t\\phi = \\left(\\Sigma_s + \\sum\\limits_ii\\Sigma_{(n, in)}\\right)\\phi + \\frac{1}{k}\\nu\\Sigma_f\\phi$\n",
    "$\\Sigma_t\\phi = \\nu\\Sigma_s\\phi + \\frac{1}{k}\\nu\\Sigma_f\\phi$\n",
    "\n",
    "where the production scattering rate termed \"nu-scatter\" in OpenMC is $\\nu\\Sigma_s\\phi$.\n",
    "\n",
    "Now, k-infinity is calculated using:\n",
    "\n",
    "$k = \\frac{\\nu\\Sigma_f\\phi}{\\Sigma_t\\phi - \\nu\\Sigma_s\\phi}$\n",
    "\n",
    "It should be noted that we do not defined an equivalent absorption rate here. We just use the total and nu-scatter scores. Some codes have calculated an absorption rate using the production scattering rate and have termed it \"negative\" or \"reduced\" absorption."
   ]
  },
  {
   "cell_type": "markdown",
   "metadata": {},
   "source": [
    "## Calculate Correct k-infinity"
   ]
  },
  {
   "cell_type": "code",
   "execution_count": 18,
   "metadata": {
    "collapsed": false
   },
   "outputs": [
    {
     "name": "stdout",
     "output_type": "stream",
     "text": [
      "k-inf is 1.16015939107\n",
      "Approximate Difference in pcm: 36.6240593545\n"
     ]
    }
   ],
   "source": [
    "# Extract total and nu-scatter scores\n",
    "total_rate = tally.get_slice(scores=['total'])\n",
    "nu_scatter_rate = tally.get_slice(scores=['nu-scatter'])\n",
    "\n",
    "# calculate k-inf\n",
    "kinf = nu_fission_rate / (total_rate - nu_scatter_rate)\n",
    "\n",
    "print \"k-inf is {}\".format(kinf.mean[0,0,0])\n",
    "\n",
    "# difference from OpenMC\n",
    "print \"Approximate Difference in pcm: {}\".format(np.abs(kinf.mean[0,0,0] - k_openmc[0])*10**5)"
   ]
  },
  {
   "cell_type": "markdown",
   "metadata": {},
   "source": [
    "We are much closer now, and the difference is because analog tally estimators were used and we are comparing to OpenMC's statistically combined k."
   ]
  },
  {
   "cell_type": "code",
   "execution_count": null,
   "metadata": {
    "collapsed": true
   },
   "outputs": [],
   "source": []
  }
 ],
 "metadata": {
  "kernelspec": {
   "display_name": "Python 2",
   "language": "python",
   "name": "python2"
  },
  "language_info": {
   "codemirror_mode": {
    "name": "ipython",
    "version": 2
   },
   "file_extension": ".py",
   "mimetype": "text/x-python",
   "name": "python",
   "nbconvert_exporter": "python",
   "pygments_lexer": "ipython2",
   "version": "2.7.10"
  }
 },
 "nbformat": 4,
 "nbformat_minor": 0
}
