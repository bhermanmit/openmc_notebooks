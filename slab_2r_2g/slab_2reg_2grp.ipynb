{
 "cells": [
  {
   "cell_type": "markdown",
   "metadata": {},
   "source": [
    "# Two-Region Slab Problem w/ Two Energy Group Flux Tallies"
   ]
  },
  {
   "cell_type": "markdown",
   "metadata": {},
   "source": [
    "Setup python"
   ]
  },
  {
   "cell_type": "code",
   "execution_count": 1,
   "metadata": {
    "collapsed": true
   },
   "outputs": [],
   "source": [
    "from IPython.display import Image\n",
    "import numpy as np\n",
    "import matplotlib.pyplot as plt\n",
    "from matplotlib import rc\n",
    "\n",
    "import openmc\n",
    "from openmc.statepoint import StatePoint\n",
    "\n",
    "%matplotlib inline"
   ]
  },
  {
   "cell_type": "markdown",
   "metadata": {},
   "source": [
    "## Load some nuclides"
   ]
  },
  {
   "cell_type": "code",
   "execution_count": 2,
   "metadata": {
    "collapsed": true
   },
   "outputs": [],
   "source": [
    "h1 = openmc.Nuclide('H-1')\n",
    "o16 = openmc.Nuclide('O-16')\n",
    "u235 = openmc.Nuclide('U-235')\n",
    "u238 = openmc.Nuclide('U-238')"
   ]
  },
  {
   "cell_type": "markdown",
   "metadata": {},
   "source": [
    "## Create fuel and moderator materials"
   ]
  },
  {
   "cell_type": "code",
   "execution_count": 3,
   "metadata": {
    "collapsed": true
   },
   "outputs": [],
   "source": [
    "fuel = openmc.Material(name='Fuel')\n",
    "fuel.set_density('g/cm3', 10.31341)\n",
    "fuel.add_nuclide(u235, 3.7503e-4)\n",
    "fuel.add_nuclide(u238, 2.2625e-2)\n",
    "fuel.add_nuclide(o16, 4.6007e-2)\n",
    "fuel.add_nuclide(h1, 9.2000e-2)\n",
    "\n",
    "mod = openmc.Material(name='Moderator')\n",
    "mod.set_density('g/cm3', 1.5)\n",
    "mod.add_nuclide(o16,2.5000e-3)\n",
    "mod.add_nuclide(h1, 5.0000e-3)"
   ]
  },
  {
   "cell_type": "markdown",
   "metadata": {},
   "source": [
    "## Create materials object and export"
   ]
  },
  {
   "cell_type": "code",
   "execution_count": 4,
   "metadata": {
    "collapsed": false
   },
   "outputs": [],
   "source": [
    "materials_file = openmc.MaterialsFile()\n",
    "materials_file.add_material(fuel)\n",
    "materials_file.add_material(mod)\n",
    "materials_file.default_xs = '71c'\n",
    "\n",
    "materials_file.export_to_xml()"
   ]
  },
  {
   "cell_type": "markdown",
   "metadata": {},
   "source": [
    "## Create surfaces"
   ]
  },
  {
   "cell_type": "code",
   "execution_count": 5,
   "metadata": {
    "collapsed": false
   },
   "outputs": [],
   "source": [
    "left = openmc.XPlane(x0=-10.0, boundary_type='vacuum')\n",
    "internal_left = openmc.XPlane(x0=-8.0)\n",
    "internal_right = openmc.XPlane(x0=+8.0)\n",
    "right = openmc.XPlane(x0=+10.0, boundary_type='vacuum')\n",
    "min_y = openmc.YPlane(y0=-1.0, boundary_type='reflective')\n",
    "max_y = openmc.YPlane(y0=+1.0, boundary_type='reflective')\n",
    "min_z = openmc.ZPlane(z0=-1.0, boundary_type='reflective')\n",
    "max_z = openmc.ZPlane(z0=+1.0, boundary_type='reflective')"
   ]
  },
  {
   "cell_type": "markdown",
   "metadata": {},
   "source": [
    "## Create cells"
   ]
  },
  {
   "cell_type": "code",
   "execution_count": 6,
   "metadata": {
    "collapsed": true
   },
   "outputs": [],
   "source": [
    "# Create a Universe to encapsulate a slab\n",
    "slab_cell_universe = openmc.Universe(name='Slab')\n",
    "\n",
    "# Create left moderator\n",
    "mod_left_cell = openmc.Cell(name='Left Moderator')\n",
    "mod_left_cell.fill = mod\n",
    "mod_left_cell.region = +left & -internal_left\n",
    "slab_cell_universe.add_cell(mod_left_cell)\n",
    "\n",
    "# Create fuel\n",
    "fuel_cell = openmc.Cell(name='Fuel')\n",
    "fuel_cell.fill = fuel\n",
    "fuel_cell.region = +internal_left & -internal_right\n",
    "slab_cell_universe.add_cell(fuel_cell)\n",
    "\n",
    "# Create right moderator\n",
    "mod_right_cell = openmc.Cell(name='Right Moderator')\n",
    "mod_right_cell.fill = mod\n",
    "mod_right_cell.region = +internal_right & -right\n",
    "slab_cell_universe.add_cell(mod_right_cell)"
   ]
  },
  {
   "cell_type": "markdown",
   "metadata": {},
   "source": [
    "## Create root cell and geometry"
   ]
  },
  {
   "cell_type": "code",
   "execution_count": 7,
   "metadata": {
    "collapsed": true
   },
   "outputs": [],
   "source": [
    "root_cell = openmc.Cell(name='root cell')\n",
    "root_cell.fill = slab_cell_universe\n",
    "\n",
    "# Add boundary planes\n",
    "root_cell.region = +left & -right & +min_y & -max_y & +min_z & -max_z\n",
    "\n",
    "# Create root Universe\n",
    "root_universe = openmc.Universe(universe_id=0, name='root universe')\n",
    "root_universe.add_cell(root_cell)\n",
    "\n",
    "# Create Geometry and set root Universe\n",
    "geometry = openmc.Geometry()\n",
    "geometry.root_universe = root_universe"
   ]
  },
  {
   "cell_type": "markdown",
   "metadata": {},
   "source": [
    "## Create geometry file and export"
   ]
  },
  {
   "cell_type": "code",
   "execution_count": 8,
   "metadata": {
    "collapsed": true
   },
   "outputs": [],
   "source": [
    "geometry_file = openmc.GeometryFile()\n",
    "geometry_file.geometry = geometry\n",
    "\n",
    "geometry_file.export_to_xml()"
   ]
  },
  {
   "cell_type": "markdown",
   "metadata": {},
   "source": [
    "## Set OpenMC settings and export file"
   ]
  },
  {
   "cell_type": "code",
   "execution_count": 9,
   "metadata": {
    "collapsed": false
   },
   "outputs": [],
   "source": [
    "# OpenMC simulation parameters\n",
    "batches = 100\n",
    "inactive = 10\n",
    "particles = 10000\n",
    "\n",
    "# Instantiate a SettingsFile\n",
    "settings_file = openmc.SettingsFile()\n",
    "settings_file.batches = batches\n",
    "settings_file.inactive = inactive\n",
    "settings_file.particles = particles\n",
    "source_bounds = [left.x0, min_y.y0, min_z.z0, right.x0, max_y.y0, max_z.z0]\n",
    "settings_file.set_source_space('box', source_bounds)\n",
    "\n",
    "# Export to \"settings.xml\"\n",
    "settings_file.export_to_xml()"
   ]
  },
  {
   "cell_type": "markdown",
   "metadata": {},
   "source": [
    "## Plot geometry"
   ]
  },
  {
   "cell_type": "code",
   "execution_count": 10,
   "metadata": {
    "collapsed": false
   },
   "outputs": [],
   "source": [
    "# Instantiate a Plot\n",
    "plot = openmc.Plot(plot_id=1)\n",
    "plot.filename = 'slab_geometry'\n",
    "plot.origin = [0, 0, 0]\n",
    "plot.width = [20.0, 2.0]\n",
    "plot.pixels = [2000, 200]\n",
    "plot.color = 'mat'\n",
    "plot.col_spec={mod.id: (0, 184, 245), fuel.id:(255, 0, 0)}\n",
    "\n",
    "# Instantiate a PlotsFile, add Plot, and export to \"plots.xml\"\n",
    "plot_file = openmc.PlotsFile()\n",
    "plot_file.add_plot(plot)\n",
    "plot_file.export_to_xml()"
   ]
  },
  {
   "cell_type": "markdown",
   "metadata": {},
   "source": [
    "## Run OpenMC to create plot"
   ]
  },
  {
   "cell_type": "code",
   "execution_count": 11,
   "metadata": {
    "collapsed": false
   },
   "outputs": [
    {
     "data": {
      "text/plain": [
       "0"
      ]
     },
     "execution_count": 11,
     "metadata": {},
     "output_type": "execute_result"
    }
   ],
   "source": [
    "executor = openmc.Executor()\n",
    "executor.plot_geometry(output=False)"
   ]
  },
  {
   "cell_type": "code",
   "execution_count": 12,
   "metadata": {
    "collapsed": false
   },
   "outputs": [
    {
     "data": {
      "image/png": "[encoded data removed]",
      "text/plain": [
       "<IPython.core.display.Image object>"
      ]
     },
     "execution_count": 12,
     "metadata": {},
     "output_type": "execute_result"
    }
   ],
   "source": [
    "# Convert OpenMC's ppm to png\n",
    "!convert slab_geometry.ppm slab_geometry.png\n",
    "\n",
    "# Display the materials plot inline\n",
    "Image(filename='slab_geometry.png')"
   ]
  },
  {
   "cell_type": "markdown",
   "metadata": {},
   "source": [
    "## Create tallies"
   ]
  },
  {
   "cell_type": "code",
   "execution_count": 13,
   "metadata": {
    "collapsed": false
   },
   "outputs": [],
   "source": [
    "# Instantiate an empty TalliesFile\n",
    "tallies_file = openmc.TalliesFile()\n",
    "\n",
    "# Create mesh which will be used for tally\n",
    "mesh = openmc.Mesh()\n",
    "mesh.dimension = [200, 1]\n",
    "mesh.lower_left = [left.x0, min_y.y0]\n",
    "mesh.upper_right = [right.x0, max_y.y0]\n",
    "tallies_file.add_mesh(mesh)\n",
    "\n",
    "# Create mesh filter for tally\n",
    "mesh_filter = openmc.Filter(type='mesh', bins=[1])\n",
    "mesh_filter.mesh = mesh\n",
    "\n",
    "# Create energy filter for tally\n",
    "energy_filter = openmc.Filter(type='energy', bins=[0.0, 0.625e-6, 20.0])\n",
    "\n",
    "# Create mesh tally to score flux and fission rate\n",
    "tally_flux = openmc.Tally(name='flux')\n",
    "tally_flux.add_filter(mesh_filter)\n",
    "tally_flux.add_filter(energy_filter)\n",
    "tally_flux.add_score('flux')\n",
    "tallies_file.add_tally(tally_flux)\n",
    "\n",
    "tally_fission = openmc.Tally(name='fission')\n",
    "tally_fission.add_filter(mesh_filter)\n",
    "tally_fission.add_score('fission')\n",
    "tallies_file.add_tally(tally_fission)\n",
    "\n",
    "# Export to \"tallies.xml\"\n",
    "tallies_file.export_to_xml()"
   ]
  },
  {
   "cell_type": "markdown",
   "metadata": {},
   "source": [
    "## Run OpenMC Simulation"
   ]
  },
  {
   "cell_type": "code",
   "execution_count": 14,
   "metadata": {
    "collapsed": false
   },
   "outputs": [
    {
     "name": "stdout",
     "output_type": "stream",
     "text": [
      "\n",
      "       .d88888b.                             888b     d888  .d8888b.\n",
      "      d88P\" \"Y88b                            8888b   d8888 d88P  Y88b\n",
      "      888     888                            88888b.d88888 888    888\n",
      "      888     888 88888b.   .d88b.  88888b.  888Y88888P888 888       \n",
      "      888     888 888 \"88b d8P  Y8b 888 \"88b 888 Y888P 888 888       \n",
      "      888     888 888  888 88888888 888  888 888  Y8P  888 888    888\n",
      "      Y88b. .d88P 888 d88P Y8b.     888  888 888   \"   888 Y88b  d88P\n",
      "       \"Y88888P\"  88888P\"   \"Y8888  888  888 888       888  \"Y8888P\"\n",
      "__________________888______________________________________________________\n",
      "                  888\n",
      "                  888\n",
      "\n",
      "      Copyright:      2011-2015 Massachusetts Institute of Technology\n",
      "      License:        http://mit-crpg.github.io/openmc/license.html\n",
      "      Version:        0.7.0\n",
      "      Git SHA1:       8f2b7b02fc7b7225f32ffd022c5fc9280e1380a5\n",
      "      Date/Time:      2015-12-05 10:40:48\n",
      "      MPI Processes:  1\n",
      "      OpenMP Threads: 8\n",
      "\n",
      " ===========================================================================\n",
      " ========================>     INITIALIZATION     <=========================\n",
      " ===========================================================================\n",
      "\n",
      " Reading settings XML file...\n",
      " Reading cross sections XML file...\n",
      " Reading geometry XML file...\n",
      " Reading materials XML file...\n",
      " Reading tallies XML file...\n",
      " Building neighboring cells lists for each surface...\n",
      " Loading ACE cross section table: 92235.71c\n",
      " Loading ACE cross section table: 92238.71c\n",
      " Loading ACE cross section table: 8016.71c\n",
      " Loading ACE cross section table: 1001.71c\n",
      " Maximum neutron transport energy: 20.0000 MeV for 92235.71c\n",
      " Initializing source particles...\n",
      "\n",
      " ===========================================================================\n",
      " ====================>     K EIGENVALUE SIMULATION     <====================\n",
      " ===========================================================================\n",
      "\n",
      "  Bat./Gen.      k            Average k         \n",
      "  =========   ========   ====================   \n",
      "        1/1    0.83688                       \n",
      "        2/1    0.96753                       \n",
      "        3/1    0.98192                       \n",
      "        4/1    0.97911                       \n",
      "        5/1    0.97603                       \n",
      "        6/1    0.99625                       \n",
      "        7/1    0.98603                       \n",
      "        8/1    0.96269                       \n",
      "        9/1    1.01117                       \n",
      "       10/1    1.00209                       \n",
      "       11/1    0.98748                       \n",
      "       12/1    0.97398    0.98073 +/- 0.00675\n",
      "       13/1    0.97686    0.97944 +/- 0.00411\n",
      "       14/1    0.96450    0.97571 +/- 0.00473\n",
      "       15/1    1.00117    0.98080 +/- 0.00627\n",
      "       16/1    0.95957    0.97726 +/- 0.00623\n",
      "       17/1    0.97974    0.97761 +/- 0.00527\n",
      "       18/1    0.96855    0.97648 +/- 0.00471\n",
      "       19/1    0.97644    0.97648 +/- 0.00415\n",
      "       20/1    0.98522    0.97735 +/- 0.00381\n",
      "       21/1    0.97603    0.97723 +/- 0.00345\n",
      "       22/1    0.96234    0.97599 +/- 0.00339\n",
      "       23/1    0.97808    0.97615 +/- 0.00312\n",
      "       24/1    0.96538    0.97538 +/- 0.00299\n",
      "       25/1    0.98762    0.97620 +/- 0.00290\n",
      "       26/1    0.97967    0.97641 +/- 0.00272\n",
      "       27/1    0.98161    0.97672 +/- 0.00257\n",
      "       28/1    0.97363    0.97655 +/- 0.00243\n",
      "       29/1    0.98429    0.97696 +/- 0.00234\n",
      "       30/1    0.97903    0.97706 +/- 0.00222\n",
      "       31/1    0.99562    0.97794 +/- 0.00229\n",
      "       32/1    0.97148    0.97765 +/- 0.00220\n",
      "       33/1    0.96605    0.97715 +/- 0.00216\n",
      "       34/1    0.99848    0.97803 +/- 0.00225\n",
      "       35/1    0.99015    0.97852 +/- 0.00222\n",
      "       36/1    0.97435    0.97836 +/- 0.00214\n",
      "       37/1    0.99378    0.97893 +/- 0.00213\n",
      "       38/1    0.97705    0.97886 +/- 0.00206\n",
      "       39/1    0.98290    0.97900 +/- 0.00199\n",
      "       40/1    0.95165    0.97809 +/- 0.00213\n",
      "       41/1    0.97684    0.97805 +/- 0.00206\n",
      "       42/1    0.97830    0.97806 +/- 0.00199\n",
      "       43/1    1.01240    0.97910 +/- 0.00219\n",
      "       44/1    0.98600    0.97930 +/- 0.00214\n",
      "       45/1    0.96063    0.97877 +/- 0.00214\n",
      "       46/1    0.95965    0.97824 +/- 0.00215\n",
      "       47/1    0.96573    0.97790 +/- 0.00212\n",
      "       48/1    0.97706    0.97788 +/- 0.00206\n",
      "       49/1    0.98119    0.97796 +/- 0.00201\n",
      "       50/1    0.99019    0.97827 +/- 0.00198\n",
      "       51/1    0.99471    0.97867 +/- 0.00197\n",
      "       52/1    0.98951    0.97893 +/- 0.00194\n",
      "       53/1    0.99457    0.97929 +/- 0.00193\n",
      "       54/1    1.00089    0.97978 +/- 0.00195\n",
      "       55/1    0.98110    0.97981 +/- 0.00191\n",
      "       56/1    0.97896    0.97979 +/- 0.00187\n",
      "       57/1    0.99386    0.98009 +/- 0.00185\n",
      "       58/1    0.98884    0.98027 +/- 0.00182\n",
      "       59/1    0.97761    0.98022 +/- 0.00178\n",
      "       60/1    0.99676    0.98055 +/- 0.00178\n",
      "       61/1    0.98551    0.98065 +/- 0.00175\n",
      "       62/1    1.00297    0.98108 +/- 0.00176\n",
      "       63/1    0.99077    0.98126 +/- 0.00174\n",
      "       64/1    0.96249    0.98091 +/- 0.00174\n",
      "       65/1    0.98259    0.98094 +/- 0.00171\n",
      "       66/1    0.98973    0.98110 +/- 0.00169\n",
      "       67/1    0.99223    0.98129 +/- 0.00167\n",
      "       68/1    0.96298    0.98098 +/- 0.00167\n",
      "       69/1    0.98098    0.98098 +/- 0.00164\n",
      "       70/1    0.97444    0.98087 +/- 0.00162\n",
      "       71/1    0.99227    0.98106 +/- 0.00160\n",
      "       72/1    0.99931    0.98135 +/- 0.00160\n",
      "       73/1    0.99141    0.98151 +/- 0.00159\n",
      "       74/1    0.97753    0.98145 +/- 0.00156\n",
      "       75/1    0.95222    0.98100 +/- 0.00160\n",
      "       76/1    0.97432    0.98090 +/- 0.00158\n",
      "       77/1    0.98710    0.98099 +/- 0.00156\n",
      "       78/1    1.00008    0.98127 +/- 0.00156\n",
      "       79/1    1.00013    0.98154 +/- 0.00156\n",
      "       80/1    0.98077    0.98153 +/- 0.00154\n",
      "       81/1    1.00660    0.98189 +/- 0.00156\n",
      "       82/1    0.99339    0.98205 +/- 0.00155\n",
      "       83/1    0.97697    0.98198 +/- 0.00153\n",
      "       84/1    1.00345    0.98227 +/- 0.00153\n",
      "       85/1    0.99971    0.98250 +/- 0.00153\n",
      "       86/1    0.96911    0.98232 +/- 0.00152\n",
      "       87/1    0.97912    0.98228 +/- 0.00150\n",
      "       88/1    0.97850    0.98223 +/- 0.00148\n",
      "       89/1    1.00508    0.98252 +/- 0.00149\n",
      "       90/1    0.97051    0.98237 +/- 0.00148\n",
      "       91/1    1.01865    0.98282 +/- 0.00153\n",
      "       92/1    0.99355    0.98295 +/- 0.00152\n",
      "       93/1    0.98855    0.98302 +/- 0.00150\n",
      "       94/1    0.96550    0.98281 +/- 0.00150\n",
      "       95/1    0.97673    0.98274 +/- 0.00148\n",
      "       96/1    0.99302    0.98286 +/- 0.00147\n",
      "       97/1    1.00089    0.98307 +/- 0.00147\n",
      "       98/1    0.97474    0.98297 +/- 0.00145\n",
      "       99/1    0.97897    0.98293 +/- 0.00144\n",
      "      100/1    0.99222    0.98303 +/- 0.00142\n",
      " Creating state point statepoint.100.h5...\n",
      "\n",
      " ===========================================================================\n",
      " ======================>     SIMULATION FINISHED     <======================\n",
      " ===========================================================================\n",
      "\n",
      "\n",
      " =======================>     TIMING STATISTICS     <=======================\n",
      "\n",
      " Total time for initialization     =  2.0200E-01 seconds\n",
      "   Reading cross sections          =  4.9000E-02 seconds\n",
      " Total time in simulation          =  7.9020E+00 seconds\n",
      "   Time in transport only          =  7.7660E+00 seconds\n",
      "   Time in inactive batches        =  5.1800E-01 seconds\n",
      "   Time in active batches          =  7.3840E+00 seconds\n",
      "   Time synchronizing fission bank =  1.1000E-02 seconds\n",
      "     Sampling source sites         =  1.0000E-02 seconds\n",
      "     SEND/RECV source sites        =  1.0000E-03 seconds\n",
      "   Time accumulating tallies       =  0.0000E+00 seconds\n",
      " Total time for finalization       =  5.0000E-03 seconds\n",
      " Total time elapsed                =  8.1320E+00 seconds\n",
      " Calculation Rate (inactive)       =  1.93050E+05 neutrons/second\n",
      " Calculation Rate (active)         =  1.21885E+05 neutrons/second\n",
      "\n",
      " ============================>     RESULTS     <============================\n",
      "\n",
      " k-effective (Collision)     =  0.98304 +/-  0.00137\n",
      " k-effective (Track-length)  =  0.98303 +/-  0.00142\n",
      " k-effective (Absorption)    =  0.98307 +/-  0.00111\n",
      " Combined k-effective        =  0.98306 +/-  0.00097\n",
      " Leakage Fraction            =  0.14486 +/-  0.00039\n",
      "\n"
     ]
    },
    {
     "data": {
      "text/plain": [
       "0"
      ]
     },
     "execution_count": 14,
     "metadata": {},
     "output_type": "execute_result"
    }
   ],
   "source": [
    "executor.run_simulation()"
   ]
  },
  {
   "cell_type": "markdown",
   "metadata": {
    "collapsed": true
   },
   "source": [
    "## Extract tallies"
   ]
  },
  {
   "cell_type": "code",
   "execution_count": 15,
   "metadata": {
    "collapsed": false
   },
   "outputs": [],
   "source": [
    "# Load the statepoint file\n",
    "sp = StatePoint('statepoint.100.h5')\n",
    "\n",
    "# Extract tallies from file\n",
    "flux = sp.get_tally(scores=['flux'])\n",
    "fission = sp.get_tally(scores=['fission'])\n",
    "\n",
    "sp.close()\n",
    "\n",
    "# Reshape\n",
    "flux.mean.shape = (200, 2)\n",
    "fission.mean.shape = (200,)"
   ]
  },
  {
   "cell_type": "markdown",
   "metadata": {},
   "source": [
    "## Plot flux"
   ]
  },
  {
   "cell_type": "code",
   "execution_count": 16,
   "metadata": {
    "collapsed": false
   },
   "outputs": [
    {
     "data": {
      "image/png": "[encoded data removed]",
      "text/plain": [
       "<matplotlib.figure.Figure at 0x7fd84d4a9610>"
      ]
     },
     "metadata": {},
     "output_type": "display_data"
    }
   ],
   "source": [
    "# Fast flux\n",
    "plt.figure(figsize=(15,15))\n",
    "fig=plt.subplot(121, adjustable='box', aspect=200/0.09)\n",
    "fig.plot(flux.mean[:,1], 'b-')\n",
    "fig.set_xlabel(\"$x$\", fontsize=24)\n",
    "fig.set_ylabel(\"$\\phi_1\\Delta x$\", fontsize=24)\n",
    "fig.set_title(\"Fast Flux\", fontsize=24)\n",
    "\n",
    "# Thermal flux\n",
    "fig=plt.subplot(122, adjustable='box', aspect=200/0.016)\n",
    "fig.plot(flux.mean[:,0], 'r-')\n",
    "fig.set_xlabel(\"$x$\", fontsize=24)\n",
    "fig.set_ylabel(\"$\\phi_2\\Delta x$\", fontsize=24)\n",
    "fig.set_title(\"Thermal Flux\", fontsize=24)\n",
    "\n",
    "plt.tight_layout(pad=10)"
   ]
  },
  {
   "cell_type": "markdown",
   "metadata": {},
   "source": [
    "## Plot fission rate"
   ]
  },
  {
   "cell_type": "code",
   "execution_count": 17,
   "metadata": {
    "collapsed": false
   },
   "outputs": [
    {
     "data": {
      "text/plain": [
       "<matplotlib.text.Text at 0x7fd846fef210>"
      ]
     },
     "execution_count": 17,
     "metadata": {},
     "output_type": "execute_result"
    },
    {
     "data": {
      "image/png": "[encoded data removed]",
      "text/plain": [
       "<matplotlib.figure.Figure at 0x7fd84d4f6850>"
      ]
     },
     "metadata": {},
     "output_type": "display_data"
    }
   ],
   "source": [
    "plt.figure(figsize=(8,8))\n",
    "fig=plt.subplot(111, adjustable='box', aspect=200/0.0035)\n",
    "fig.plot(fission.mean, 'g-')\n",
    "fig.set_xlabel(\"$x$\", fontsize=24)\n",
    "fig.set_ylabel(\"$\\Sigma_f\\phi\\Delta x$\", fontsize=24)\n",
    "fig.set_title(\"Fission Rate\", fontsize=24)"
   ]
  }
 ],
 "metadata": {
  "kernelspec": {
   "display_name": "Python 2",
   "language": "python",
   "name": "python2"
  },
  "language_info": {
   "codemirror_mode": {
    "name": "ipython",
    "version": 2
   },
   "file_extension": ".py",
   "mimetype": "text/x-python",
   "name": "python",
   "nbconvert_exporter": "python",
   "pygments_lexer": "ipython2",
   "version": "2.7.10"
  }
 },
 "nbformat": 4,
 "nbformat_minor": 0
}
